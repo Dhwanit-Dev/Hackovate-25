{
 "cells": [
  {
   "cell_type": "code",
   "execution_count": 1,
   "id": "577f7769",
   "metadata": {
    "execution": {
     "iopub.execute_input": "2025-09-13T13:48:28.733529Z",
     "iopub.status.busy": "2025-09-13T13:48:28.733048Z",
     "iopub.status.idle": "2025-09-13T13:48:33.028370Z",
     "shell.execute_reply": "2025-09-13T13:48:33.027362Z"
    },
    "papermill": {
     "duration": 4.302516,
     "end_time": "2025-09-13T13:48:33.030327",
     "exception": false,
     "start_time": "2025-09-13T13:48:28.727811",
     "status": "completed"
    },
    "tags": []
   },
   "outputs": [],
   "source": [
    "import pandas as pd\n",
    "import numpy as np\n",
    "from sklearn.model_selection import train_test_split\n",
    "from sklearn.ensemble import RandomForestRegressor\n",
    "from sklearn.metrics import mean_absolute_error, r2_score\n",
    "import joblib\n",
    "import os\n"
   ]
  },
  {
   "cell_type": "code",
   "execution_count": 2,
   "id": "a0843127",
   "metadata": {
    "execution": {
     "iopub.execute_input": "2025-09-13T13:48:33.037353Z",
     "iopub.status.busy": "2025-09-13T13:48:33.036916Z",
     "iopub.status.idle": "2025-09-13T13:48:33.116918Z",
     "shell.execute_reply": "2025-09-13T13:48:33.115912Z"
    },
    "papermill": {
     "duration": 0.085063,
     "end_time": "2025-09-13T13:48:33.118611",
     "exception": false,
     "start_time": "2025-09-13T13:48:33.033548",
     "status": "completed"
    },
    "tags": []
   },
   "outputs": [],
   "source": [
    "data=pd.read_csv('/kaggle/input/solar-power/solar_power_dataset.csv')\n",
    "data.head()\n",
    "data=data.drop(columns=['air_mass','weather_condition','is_raining'])"
   ]
  },
  {
   "cell_type": "code",
   "execution_count": 3,
   "id": "9c8e83c3",
   "metadata": {
    "execution": {
     "iopub.execute_input": "2025-09-13T13:48:33.124956Z",
     "iopub.status.busy": "2025-09-13T13:48:33.124546Z",
     "iopub.status.idle": "2025-09-13T13:48:33.134675Z",
     "shell.execute_reply": "2025-09-13T13:48:33.133838Z"
    },
    "papermill": {
     "duration": 0.014968,
     "end_time": "2025-09-13T13:48:33.136185",
     "exception": false,
     "start_time": "2025-09-13T13:48:33.121217",
     "status": "completed"
    },
    "tags": []
   },
   "outputs": [
    {
     "data": {
      "text/plain": [
       "datetime                   0\n",
       "hour                       0\n",
       "day_of_year                0\n",
       "month                      0\n",
       "latitude                   0\n",
       "longitude                  0\n",
       "panel_surface_area_m2      0\n",
       "panel_tilt_degrees         0\n",
       "panel_azimuth_degrees      0\n",
       "panel_efficiency           0\n",
       "solar_irradiance_w_m2      0\n",
       "solar_elevation_degrees    0\n",
       "temperature_celsius        0\n",
       "humidity_percent           0\n",
       "wind_speed_ms              0\n",
       "cloud_cover_percent        0\n",
       "seasonal_factor            0\n",
       "power_output_kw            0\n",
       "dtype: int64"
      ]
     },
     "execution_count": 3,
     "metadata": {},
     "output_type": "execute_result"
    }
   ],
   "source": [
    "data.isnull().sum()"
   ]
  },
  {
   "cell_type": "code",
   "execution_count": 4,
   "id": "5245a527",
   "metadata": {
    "execution": {
     "iopub.execute_input": "2025-09-13T13:48:33.142579Z",
     "iopub.status.busy": "2025-09-13T13:48:33.142281Z",
     "iopub.status.idle": "2025-09-13T13:48:33.148591Z",
     "shell.execute_reply": "2025-09-13T13:48:33.147830Z"
    },
    "papermill": {
     "duration": 0.011305,
     "end_time": "2025-09-13T13:48:33.150139",
     "exception": false,
     "start_time": "2025-09-13T13:48:33.138834",
     "status": "completed"
    },
    "tags": []
   },
   "outputs": [],
   "source": [
    "X=data[[\t'hour','day_of_year',\t'month', 'latitude',\t'longitude',\t'panel_surface_area_m2',\t'panel_tilt_degrees',\t'panel_azimuth_degrees',\t'panel_efficiency', 'solar_irradiance_w_m2',\t'solar_elevation_degrees',\t'temperature_celsius',\t'humidity_percent',\t'wind_speed_ms',\t'cloud_cover_percent',\t'seasonal_factor']]\n",
    "y=data['power_output_kw']"
   ]
  },
  {
   "cell_type": "code",
   "execution_count": 5,
   "id": "87b59940",
   "metadata": {
    "execution": {
     "iopub.execute_input": "2025-09-13T13:48:33.156759Z",
     "iopub.status.busy": "2025-09-13T13:48:33.156001Z",
     "iopub.status.idle": "2025-09-13T13:48:33.163750Z",
     "shell.execute_reply": "2025-09-13T13:48:33.163108Z"
    },
    "papermill": {
     "duration": 0.012482,
     "end_time": "2025-09-13T13:48:33.165275",
     "exception": false,
     "start_time": "2025-09-13T13:48:33.152793",
     "status": "completed"
    },
    "tags": []
   },
   "outputs": [],
   "source": [
    "# Split data\n",
    "X_train, X_test, y_train, y_test = train_test_split(X, y, test_size=0.2, random_state=42)"
   ]
  },
  {
   "cell_type": "code",
   "execution_count": 6,
   "id": "32182978",
   "metadata": {
    "execution": {
     "iopub.execute_input": "2025-09-13T13:48:33.171475Z",
     "iopub.status.busy": "2025-09-13T13:48:33.171177Z",
     "iopub.status.idle": "2025-09-13T13:48:39.771295Z",
     "shell.execute_reply": "2025-09-13T13:48:39.770106Z"
    },
    "papermill": {
     "duration": 6.605167,
     "end_time": "2025-09-13T13:48:39.773075",
     "exception": false,
     "start_time": "2025-09-13T13:48:33.167908",
     "status": "completed"
    },
    "tags": []
   },
   "outputs": [],
   "source": [
    "rf = RandomForestRegressor(n_estimators=100, random_state=42)\n",
    "rf.fit(X_train, y_train)\n",
    "y_pred_rf = rf.predict(X_test)"
   ]
  },
  {
   "cell_type": "code",
   "execution_count": 7,
   "id": "e35a5ac5",
   "metadata": {
    "execution": {
     "iopub.execute_input": "2025-09-13T13:48:39.779509Z",
     "iopub.status.busy": "2025-09-13T13:48:39.779164Z",
     "iopub.status.idle": "2025-09-13T13:48:39.822037Z",
     "shell.execute_reply": "2025-09-13T13:48:39.820729Z"
    },
    "papermill": {
     "duration": 0.047972,
     "end_time": "2025-09-13T13:48:39.823615",
     "exception": false,
     "start_time": "2025-09-13T13:48:39.775643",
     "status": "completed"
    },
    "tags": []
   },
   "outputs": [
    {
     "name": "stdout",
     "output_type": "stream",
     "text": [
      "MAE: 0.3620602600000001\n",
      "R²: 0.9692736572671654\n"
     ]
    }
   ],
   "source": [
    "y_pred = rf.predict(X_test)\n",
    "print(\"MAE:\", mean_absolute_error(y_test, y_pred))\n",
    "print(\"R²:\", r2_score(y_test, y_pred))"
   ]
  },
  {
   "cell_type": "code",
   "execution_count": 8,
   "id": "81eb3d8b",
   "metadata": {
    "execution": {
     "iopub.execute_input": "2025-09-13T13:48:39.830637Z",
     "iopub.status.busy": "2025-09-13T13:48:39.830279Z",
     "iopub.status.idle": "2025-09-13T13:48:39.836349Z",
     "shell.execute_reply": "2025-09-13T13:48:39.835554Z"
    },
    "papermill": {
     "duration": 0.011228,
     "end_time": "2025-09-13T13:48:39.837701",
     "exception": false,
     "start_time": "2025-09-13T13:48:39.826473",
     "status": "completed"
    },
    "tags": []
   },
   "outputs": [],
   "source": [
    "def predict_power(hour, day_of_year, month, latitude, longitude,\n",
    "                  panel_surface_area_m2, panel_tilt_degrees, panel_azimuth_degrees,\n",
    "                  panel_efficiency, solar_irradiance_w_m2, solar_elevation_degrees,\n",
    "                  temperature_celsius, humidity_percent, wind_speed_ms,\n",
    "                  cloud_cover_percent, seasonal_factor):\n",
    "    \n",
    "    features = [[hour, day_of_year, month, latitude, longitude,\n",
    "                 panel_surface_area_m2, panel_tilt_degrees, panel_azimuth_degrees,\n",
    "                 panel_efficiency, solar_irradiance_w_m2, solar_elevation_degrees,\n",
    "                 temperature_celsius, humidity_percent, wind_speed_ms,\n",
    "                 cloud_cover_percent, seasonal_factor]]\n",
    "    \n",
    "    return rf.predict(features)[0]\n"
   ]
  },
  {
   "cell_type": "code",
   "execution_count": 9,
   "id": "6ff3b079",
   "metadata": {
    "execution": {
     "iopub.execute_input": "2025-09-13T13:48:39.844451Z",
     "iopub.status.busy": "2025-09-13T13:48:39.844119Z",
     "iopub.status.idle": "2025-09-13T13:48:39.858087Z",
     "shell.execute_reply": "2025-09-13T13:48:39.856902Z"
    },
    "papermill": {
     "duration": 0.019093,
     "end_time": "2025-09-13T13:48:39.859542",
     "exception": false,
     "start_time": "2025-09-13T13:48:39.840449",
     "status": "completed"
    },
    "tags": []
   },
   "outputs": [
    {
     "name": "stdout",
     "output_type": "stream",
     "text": [
      "Predicted Power Output: 3.0359499999999997 kW\n"
     ]
    },
    {
     "name": "stderr",
     "output_type": "stream",
     "text": [
      "/usr/local/lib/python3.11/dist-packages/sklearn/base.py:439: UserWarning: X does not have valid feature names, but RandomForestRegressor was fitted with feature names\n",
      "  warnings.warn(\n"
     ]
    }
   ],
   "source": [
    "predicted = predict_power(\n",
    "    hour=14, day_of_year=150, month=6,\n",
    "    latitude=28.6, longitude=77.2,\n",
    "    panel_surface_area_m2=2.0,\n",
    "    panel_tilt_degrees=30, panel_azimuth_degrees=180,\n",
    "    panel_efficiency=0.18,\n",
    "    solar_irradiance_w_m2=800, solar_elevation_degrees=60,\n",
    "    temperature_celsius=30, humidity_percent=50,\n",
    "    wind_speed_ms=2, cloud_cover_percent=20,\n",
    "    seasonal_factor=1.0\n",
    ")\n",
    "\n",
    "print(\"Predicted Power Output:\", predicted, \"kW\")\n"
   ]
  }
 ],
 "metadata": {
  "kaggle": {
   "accelerator": "none",
   "dataSources": [
    {
     "datasetId": 8260804,
     "sourceId": 13045572,
     "sourceType": "datasetVersion"
    }
   ],
   "dockerImageVersionId": 31089,
   "isGpuEnabled": false,
   "isInternetEnabled": true,
   "language": "python",
   "sourceType": "notebook"
  },
  "kernelspec": {
   "display_name": "Python 3",
   "language": "python",
   "name": "python3"
  },
  "language_info": {
   "codemirror_mode": {
    "name": "ipython",
    "version": 3
   },
   "file_extension": ".py",
   "mimetype": "text/x-python",
   "name": "python",
   "nbconvert_exporter": "python",
   "pygments_lexer": "ipython3",
   "version": "3.11.13"
  },
  "papermill": {
   "default_parameters": {},
   "duration": 17.771294,
   "end_time": "2025-09-13T13:48:40.584815",
   "environment_variables": {},
   "exception": null,
   "input_path": "__notebook__.ipynb",
   "output_path": "__notebook__.ipynb",
   "parameters": {},
   "start_time": "2025-09-13T13:48:22.813521",
   "version": "2.6.0"
  }
 },
 "nbformat": 4,
 "nbformat_minor": 5
}
